{
 "cells": [
  {
   "cell_type": "code",
   "execution_count": 1,
   "metadata": {
    "collapsed": true
   },
   "outputs": [],
   "source": [
    "import matplotlib.pyplot as plt\n",
    "import numpy as np\n",
    "import pandas as pd\n",
    "from sklearn.preprocessing import LabelEncoder"
   ]
  },
  {
   "cell_type": "code",
   "execution_count": 2,
   "outputs": [],
   "source": [
    "# data set from: https://www.kaggle.com/nehalbirla/vehicle-dataset-from-cardekho?select=Car+details+v3.csv\n",
    "# prices are in INR (Indian Rupees) [ 1 USD approx. 73 INR ]\n",
    "\n",
    "plt.rcParams['figure.figsize'] = [16, 8]\n",
    "plt.rcParams.update({'font.size': 18})\n",
    "data_path = 'data/SVD-Visualization/cars.csv'"
   ],
   "metadata": {
    "collapsed": false,
    "pycharm": {
     "name": "#%%\n"
    }
   }
  },
  {
   "cell_type": "markdown",
   "source": [
    "# Prepare data"
   ],
   "metadata": {
    "collapsed": false,
    "pycharm": {
     "name": "#%% md\n"
    }
   }
  },
  {
   "cell_type": "code",
   "execution_count": 3,
   "outputs": [],
   "source": [
    "data = pd.read_csv(data_path)\n",
    "\n",
    "data.drop(['name', 'torque', 'mileage'], axis=1, inplace=True)\n"
   ],
   "metadata": {
    "collapsed": false,
    "pycharm": {
     "name": "#%%\n"
    }
   }
  },
  {
   "cell_type": "code",
   "execution_count": 4,
   "outputs": [
    {
     "name": "stdout",
     "output_type": "stream",
     "text": [
      "{'CC'}\n"
     ]
    }
   ],
   "source": [
    "# check if any other values are not 'CC'\n",
    "\n",
    "_all = set()\n",
    "for _, entry in data.iterrows():\n",
    "    col = 'engine'\n",
    "    value = entry[col]\n",
    "    if not pd.isna(value):\n",
    "        split = entry[col].split(\" \")\n",
    "        _all.add(split[1])\n",
    "        if len(split) != 2:\n",
    "            print(\"ERROR\")\n",
    "\n",
    "print(_all)"
   ],
   "metadata": {
    "collapsed": false,
    "pycharm": {
     "name": "#%%\n"
    }
   }
  },
  {
   "cell_type": "code",
   "execution_count": 5,
   "outputs": [
    {
     "name": "stdout",
     "output_type": "stream",
     "text": [
      "{'bhp'}\n"
     ]
    }
   ],
   "source": [
    "# check if any other values are not 'bhp'\n",
    "\n",
    "# filter out erroneous data\n",
    "data = data.loc[data['max_power'] != \"0\"]\n",
    "data = data.loc[data['max_power'] != \" bhp\"]\n",
    "\n",
    "\n",
    "_all = set()\n",
    "for i, entry in data.iterrows():\n",
    "    col = 'max_power'\n",
    "    value = entry[col]\n",
    "    if not pd.isna(value):\n",
    "        split = entry[col].split(\" \")\n",
    "        if len(split) != 2:\n",
    "            print(f\"ERROR at index {i}\")\n",
    "        _all.add(split[1])\n",
    "\n",
    "\n",
    "print(_all)"
   ],
   "metadata": {
    "collapsed": false,
    "pycharm": {
     "name": "#%%\n"
    }
   }
  },
  {
   "cell_type": "code",
   "execution_count": 6,
   "outputs": [],
   "source": [
    "# map CC to int\n",
    "\n",
    "col = 'engine'\n",
    "data[col] = data[col].apply(\n",
    "    lambda x: int(x.split(\" \")[0]) if not pd.isna(x) else x\n",
    ")\n",
    "\n",
    "# map bhp to float\n",
    "\n",
    "col = 'max_power'\n",
    "data[col] = data[col].apply(\n",
    "    lambda x: float(x.split(\" \")[0]) if not pd.isna(x) else x\n",
    ")"
   ],
   "metadata": {
    "collapsed": false,
    "pycharm": {
     "name": "#%%\n"
    }
   }
  },
  {
   "cell_type": "code",
   "execution_count": 7,
   "outputs": [
    {
     "name": "stdout",
     "output_type": "stream",
     "text": [
      "Nr of Cars (pre Drop): 8121\n",
      "Nr of Cars (post Drop): 7906\n"
     ]
    }
   ],
   "source": [
    "# just discovered that all values with missing info are missing\n",
    "# engine, max_power AND seats.\n",
    "# therefore drop  them\n",
    "print(f\"Nr of Cars (pre Drop): {data.shape[0]}\")\n",
    "data.dropna(inplace=True)\n",
    "print(f\"Nr of Cars (post Drop): {data.shape[0]}\")\n"
   ],
   "metadata": {
    "collapsed": false,
    "pycharm": {
     "name": "#%%\n"
    }
   }
  },
  {
   "cell_type": "code",
   "execution_count": 8,
   "outputs": [
    {
     "name": "stdout",
     "output_type": "stream",
     "text": [
      "Legend for 'transmission': ['Automatic' 'Manual']. NaN: 0\n",
      "Legend for 'fuel': ['CNG' 'Diesel' 'LPG' 'Petrol']. NaN: 0\n",
      "Legend for 'seller_type': ['Dealer' 'Individual' 'Trustmark Dealer']. NaN: 0\n",
      "Legend for 'owner': ['First Owner' 'Fourth & Above Owner' 'Second Owner' 'Test Drive Car'\n",
      " 'Third Owner']. NaN: 0\n"
     ]
    }
   ],
   "source": [
    "# label encode the categorical features\n",
    "\n",
    "le = LabelEncoder()\n",
    "col = 'transmission'\n",
    "data[col] = le.fit_transform(data[col])\n",
    "print(f\"Legend for '{col}': {le.classes_}. NaN: {data[col].isna().sum()}\")\n",
    "\n",
    "col = 'fuel'\n",
    "data[col] = le.fit_transform(data[col])\n",
    "print(f\"Legend for '{col}': {le.classes_}. NaN: {data[col].isna().sum()}\")\n",
    "\n",
    "col = 'seller_type'\n",
    "data[col] = le.fit_transform(data[col])\n",
    "print(f\"Legend for '{col}': {le.classes_}. NaN: {data[col].isna().sum()}\")\n",
    "\n",
    "col = 'owner'\n",
    "data[col] = le.fit_transform(data[col])\n",
    "print(f\"Legend for '{col}': {le.classes_}. NaN: {data[col].isna().sum()}\")\n"
   ],
   "metadata": {
    "collapsed": false,
    "pycharm": {
     "name": "#%%\n"
    }
   }
  },
  {
   "cell_type": "markdown",
   "source": [
    "# SVD"
   ],
   "metadata": {
    "collapsed": false,
    "pycharm": {
     "name": "#%% md\n"
    }
   }
  },
  {
   "cell_type": "code",
   "execution_count": 9,
   "outputs": [],
   "source": [
    "# features = data[['max_power', 'year']]"
   ],
   "metadata": {
    "collapsed": false,
    "pycharm": {
     "name": "#%%\n"
    }
   }
  },
  {
   "cell_type": "code",
   "execution_count": 10,
   "outputs": [],
   "source": [
    "label_id = \"selling_price\"\n",
    "features = data.drop(label_id, axis = 1)\n",
    "label = data[label_id]\n",
    "features = features.to_numpy()\n",
    "label = label.to_numpy()"
   ],
   "metadata": {
    "collapsed": false,
    "pycharm": {
     "name": "#%%\n"
    }
   }
  },
  {
   "cell_type": "code",
   "execution_count": 11,
   "outputs": [
    {
     "data": {
      "text/plain": "<Figure size 1152x576 with 2 Axes>",
      "image/png": "[encoded data removed]"
     },
     "metadata": {
      "needs_background": "light"
     },
     "output_type": "display_data"
    }
   ],
   "source": [
    "\n",
    "\n",
    "U, S, VT = np.linalg.svd(features, full_matrices=False)\n",
    "\n",
    "fig1 = plt.figure()\n",
    "ax1 = fig1.add_subplot(121)\n",
    "ax1.semilogy(S, '-o', color='k')\n",
    "ax2 = fig1.add_subplot(122)\n",
    "ax2.plot(np.cumsum(S) / np.sum(S), '-o', color='k')\n",
    "\n",
    "plt.show()"
   ],
   "metadata": {
    "collapsed": false,
    "pycharm": {
     "name": "#%%\n"
    }
   }
  },
  {
   "cell_type": "code",
   "execution_count": 12,
   "outputs": [
    {
     "data": {
      "text/plain": "<Figure size 1152x576 with 1 Axes>",
      "image/png": "[encoded data removed]"
     },
     "metadata": {
      "needs_background": "light"
     },
     "output_type": "display_data"
    }
   ],
   "source": [
    "mark_red_cars_below_x_rupees = 500_000\n",
    "\n",
    "fig2 = plt.figure()\n",
    "ax = fig2.add_subplot(111)\n",
    "\n",
    "for j in range(features.shape[0]):\n",
    "    x = VT[0, :] @ features[j, :].T\n",
    "    y = VT[1, :] @ features[j, :].T\n",
    "\n",
    "    if label[j] < mark_red_cars_below_x_rupees:\n",
    "        ax.scatter(x, y, marker='x', color='r', s=50)\n",
    "    else:\n",
    "        ax.scatter(x, y, marker='o', color='b', s=50)\n",
    "\n",
    "plt.show()"
   ],
   "metadata": {
    "collapsed": false,
    "pycharm": {
     "name": "#%%\n"
    }
   }
  }
 ],
 "metadata": {
  "kernelspec": {
   "display_name": "Python 3",
   "language": "python",
   "name": "python3"
  },
  "language_info": {
   "codemirror_mode": {
    "name": "ipython",
    "version": 2
   },
   "file_extension": ".py",
   "mimetype": "text/x-python",
   "name": "python",
   "nbconvert_exporter": "python",
   "pygments_lexer": "ipython2",
   "version": "2.7.6"
  }
 },
 "nbformat": 4,
 "nbformat_minor": 0
}