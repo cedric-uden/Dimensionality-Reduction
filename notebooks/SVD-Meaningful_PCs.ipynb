{
 "cells": [
  {
   "cell_type": "code",
   "execution_count": 1,
   "metadata": {
    "collapsed": true
   },
   "outputs": [],
   "source": [
    "import matplotlib.pyplot as plt\n",
    "import numpy as np\n",
    "import scipy.io\n",
    "import pandas as pd\n",
    "\n",
    "import bz2\n",
    "import _pickle"
   ]
  },
  {
   "cell_type": "code",
   "execution_count": 2,
   "outputs": [],
   "source": [
    "plt.rcParams['figure.figsize'] = [8, 8]\n",
    "plt.rcParams.update({'font.size': 18})\n",
    "original_matlab_data_path = 'data/SVD-Meaningful_PCs/allFaces.mat'\n",
    "pickle_data_path = 'data/SVD-Meaningful_PCs/faces.pkl.pbz2'"
   ],
   "metadata": {
    "collapsed": false,
    "pycharm": {
     "name": "#%%\n"
    }
   }
  },
  {
   "cell_type": "code",
   "execution_count": 3,
   "outputs": [],
   "source": [
    "# source: https://betterprogramming.pub/load-fast-load-big-with-compressed-pickles-5f311584507e\n",
    "# Compress and decompress faces data to pickle file\n",
    "\n",
    "def compress_data(title, data):\n",
    "    with bz2.BZ2File(title, 'w') as f:\n",
    "        _pickle.dump(data, f)\n",
    "\n",
    "def decompress_pickle(file):\n",
    "    data = bz2.BZ2File(file, 'rb')\n",
    "    data = _pickle.load(data)\n",
    "    return data.to_numpy()"
   ],
   "metadata": {
    "collapsed": false,
    "pycharm": {
     "name": "#%%\n"
    }
   }
  },
  {
   "cell_type": "code",
   "execution_count": 4,
   "outputs": [],
   "source": [
    "def load_original_matlab_values():\n",
    "    _mat_contents = scipy.io.loadmat(original_matlab_data_path)\n",
    "    _faces = _mat_contents['faces']\n",
    "    _m = int(_mat_contents['m'])\n",
    "    _n = int(_mat_contents['n'])\n",
    "    _n_faces = np.ndarray.flatten(_mat_contents['nfaces'])\n",
    "    _training_faces = _faces[:, :np.sum(_n_faces[:36])]\n",
    "    return _mat_contents, _training_faces, _m, _n, _n_faces\n",
    "\n",
    "def compress_original_data(_training_faces):\n",
    "    np_contents = _training_faces.astype(np.uint8)\n",
    "    df_contents = pd.DataFrame(np_contents)\n",
    "    compress_data(pickle_data_path, df_contents)\n",
    "\n",
    "# mat_contents, training_faces, m, n, n_faces = load_original_matlab_values()\n",
    "# compress_original_data(training_faces)"
   ],
   "metadata": {
    "collapsed": false,
    "pycharm": {
     "name": "#%%\n"
    }
   }
  },
  {
   "cell_type": "code",
   "execution_count": 5,
   "outputs": [],
   "source": [
    "training_faces = decompress_pickle(pickle_data_path)\n",
    "m = 168\n",
    "n = 192\n",
    "n_faces = [64, 62, 64, 64, 62, 64, 64, 64, 64, 64, 60, 59, 60, 63, 62, 63, 63, 64, 64, 64, 64, 64, 64, 64, 64, 64, 64, 64, 64, 64, 64, 64, 64, 64, 64, 64, 64, 64]"
   ],
   "metadata": {
    "collapsed": false,
    "pycharm": {
     "name": "#%%\n"
    }
   }
  },
  {
   "cell_type": "code",
   "execution_count": 6,
   "outputs": [],
   "source": [
    "# We use the first 36 people for training data\n",
    "avg_face = np.mean(training_faces, axis=1)  # size n*m by 1\n",
    "\n",
    "# Compute eigenfaces on mean-subtracted training data\n",
    "X = training_faces - np.tile(avg_face, (training_faces.shape[1], 1)).T\n",
    "U, S, VT = np.linalg.svd(X, full_matrices=0)"
   ],
   "metadata": {
    "collapsed": false,
    "pycharm": {
     "name": "#%%\n"
    }
   }
  },
  {
   "cell_type": "code",
   "execution_count": 7,
   "outputs": [
    {
     "data": {
      "text/plain": "<Figure size 576x576 with 1 Axes>",
      "image/png": "[encoded data removed]"
     },
     "metadata": {
      "needs_background": "light"
     },
     "output_type": "display_data"
    }
   ],
   "source": [
    "p1_num = 2  # Person number 2\n",
    "p2_num = 7  # Person number 7\n",
    "\n",
    "pc1 = 5\n",
    "pc2 = 6\n",
    "\n",
    "p1 = training_faces[:, np.sum(n_faces[:(p1_num - 1)]):np.sum(n_faces[:p1_num])]\n",
    "p2 = training_faces[:, np.sum(n_faces[:(p2_num - 1)]):np.sum(n_faces[:p2_num])]\n",
    "\n",
    "p1 = p1 - np.tile(avg_face, (p1.shape[1], 1)).T\n",
    "p2 = p2 - np.tile(avg_face, (p2.shape[1], 1)).T\n",
    "\n",
    "PCA_modes = [pc1, pc2]  # Project onto PCA modes 5 and 6\n",
    "PCA_coordinates_P1 = U[:, PCA_modes - np.ones_like(PCA_modes)].T @ p1\n",
    "PCA_coordinates_P2 = U[:, PCA_modes - np.ones_like(PCA_modes)].T @ p2\n",
    "\n",
    "plt.plot(PCA_coordinates_P1[0, :], PCA_coordinates_P1[1, :], 'd', color='black', label='Person 2')\n",
    "plt.plot(PCA_coordinates_P2[0, :], PCA_coordinates_P2[1, :], '^', color='red', label='Person 7')\n",
    "\n",
    "plt.legend()\n",
    "plt.show()"
   ],
   "metadata": {
    "collapsed": false,
    "pycharm": {
     "name": "#%%\n"
    }
   }
  }
 ],
 "metadata": {
  "kernelspec": {
   "display_name": "Python 3",
   "language": "python",
   "name": "python3"
  },
  "language_info": {
   "codemirror_mode": {
    "name": "ipython",
    "version": 2
   },
   "file_extension": ".py",
   "mimetype": "text/x-python",
   "name": "python",
   "nbconvert_exporter": "python",
   "pygments_lexer": "ipython2",
   "version": "2.7.6"
  }
 },
 "nbformat": 4,
 "nbformat_minor": 0
}